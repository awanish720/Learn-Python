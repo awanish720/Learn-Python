{
 "cells": [
  {
   "cell_type": "code",
   "execution_count": null,
   "id": "326a105c",
   "metadata": {},
   "outputs": [
    {
     "name": "stdout",
     "output_type": "stream",
     "text": [
      "Hello World\n"
     ]
    }
   ],
   "source": [
    "# Print Simple Hello World\n",
    "print(\"Hello World\")"
   ]
  },
  {
   "cell_type": "code",
   "execution_count": null,
   "id": "df20576d",
   "metadata": {},
   "outputs": [
    {
     "name": "stdout",
     "output_type": "stream",
     "text": [
      "Reversed String:  hsinawa\n"
     ]
    }
   ],
   "source": [
    "# Take user input and reverse it\n",
    "input_str = input(\"Enter a String: \")\n",
    "reverse_str = input_str[::-1]\n",
    "print(\"Reversed String: \", reverse_str)"
   ]
  },
  {
   "cell_type": "code",
   "execution_count": null,
   "id": "b48ae352",
   "metadata": {},
   "outputs": [
    {
     "name": "stdout",
     "output_type": "stream",
     "text": [
      "Reversed String: jar\n"
     ]
    }
   ],
   "source": [
    "# Method 2\n",
    "input_str = input(\"Enter a String: \")\n",
    "reversed_str = \"\"\n",
    "for i in range(len(input_str) - 1, -1, -1):  # Iterate from last index to -1\n",
    "    reversed_str += input_str[i]\n",
    "print(\"Reversed String:\", reversed_str)"
   ]
  }
 ],
 "metadata": {
  "kernelspec": {
   "display_name": "Python 3",
   "language": "python",
   "name": "python3"
  },
  "language_info": {
   "codemirror_mode": {
    "name": "ipython",
    "version": 3
   },
   "file_extension": ".py",
   "mimetype": "text/x-python",
   "name": "python",
   "nbconvert_exporter": "python",
   "pygments_lexer": "ipython3",
   "version": "3.9.6"
  }
 },
 "nbformat": 4,
 "nbformat_minor": 5
}
